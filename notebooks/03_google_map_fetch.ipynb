{
  "cells": [
    {
      "cell_type": "code",
      "execution_count": null,
      "metadata": {
        "colab": {
          "base_uri": "https://localhost:8080/"
        },
        "id": "d66xmjd8vP-g",
        "outputId": "93f3408f-0e97-4f1b-f81c-53bbbe14a6a6"
      },
      "outputs": [
        {
          "name": "stdout",
          "output_type": "stream",
          "text": [
            "To authorize access needed by Earth Engine, open the following URL in a web browser and follow the instructions. If the web browser does not start automatically, please manually browse the URL below.\n",
            "\n",
            "    https://code.earthengine.google.com/client-auth?scopes=https%3A//www.googleapis.com/auth/earthengine%20https%3A//www.googleapis.com/auth/devstorage.full_control&request_id=94ngemqzoeAVqX7rlu1kdeJ9jqM2F_E5tfzDAkndU2c&tc=pf1rTul2pz-oF_71sTzIhq1xY4K8Ug_8YbxV6oElj-Q&cc=YtdGshFqI4kIbvCUf7EEt0SV2iTY7nXZjXjOSPbNsRM\n",
            "\n",
            "The authorization workflow will generate a code, which you should paste in the box below.\n",
            "Enter verification code: 4/1AbUR2VPY8PCDAEeoUiIGA1ZWnHuAXnU0OdIBjA0I6vzmLL8tFZ4xFgXIUgg\n",
            "\n",
            "Successfully saved authorization token.\n"
          ]
        }
      ],
      "source": [
        "## Green space\n",
        "\n",
        "import ee\n",
        "from google.colab import drive\n",
        "ee.Authenticate()\n",
        "ee.Initialize()\n"
      ]
    },
    {
      "cell_type": "code",
      "execution_count": null,
      "metadata": {
        "colab": {
          "base_uri": "https://localhost:8080/"
        },
        "id": "4Ofgcm37vcoy",
        "outputId": "4f30c112-2b98-4650-b327-d78d79665c94"
      },
      "outputs": [
        {
          "name": "stdout",
          "output_type": "stream",
          "text": [
            "ee.Image({\n",
            "  \"functionInvocationValue\": {\n",
            "    \"functionName\": \"Collection.first\",\n",
            "    \"arguments\": {\n",
            "      \"collection\": {\n",
            "        \"functionInvocationValue\": {\n",
            "          \"functionName\": \"Collection.filter\",\n",
            "          \"arguments\": {\n",
            "            \"collection\": {\n",
            "              \"functionInvocationValue\": {\n",
            "                \"functionName\": \"ImageCollection.load\",\n",
            "                \"arguments\": {\n",
            "                  \"id\": {\n",
            "                    \"constantValue\": \"USDA/NAIP/DOQQ\"\n",
            "                  }\n",
            "                }\n",
            "              }\n",
            "            },\n",
            "            \"filter\": {\n",
            "              \"functionInvocationValue\": {\n",
            "                \"functionName\": \"Filter.dateRangeContains\",\n",
            "                \"arguments\": {\n",
            "                  \"leftValue\": {\n",
            "                    \"functionInvocationValue\": {\n",
            "                      \"functionName\": \"DateRange\",\n",
            "                      \"arguments\": {\n",
            "                        \"end\": {\n",
            "                          \"constantValue\": \"2015-05-01\"\n",
            "                        },\n",
            "                        \"start\": {\n",
            "                          \"constantValue\": \"2015-04-01\"\n",
            "                        }\n",
            "                      }\n",
            "                    }\n",
            "                  },\n",
            "                  \"rightField\": {\n",
            "                    \"constantValue\": \"system:time_start\"\n",
            "                  }\n",
            "                }\n",
            "              }\n",
            "            }\n",
            "          }\n",
            "        }\n",
            "      }\n",
            "    }\n",
            "  }\n",
            "})\n",
            "Image URL: https://earthengine.googleapis.com/v1alpha/projects/earthengine-legacy/thumbnails/f1e66027b6dfd73751b38478f659c376-e625e1fd2bed5d0ed255f7ee57fe9e7e:getPixels\n"
          ]
        }
      ],
      "source": [
        "# Define the coordinates (longitude, latitude) and image scale\n",
        "longitude = -71.117736\n",
        "latitude = 42.265168\n",
        "scale = 50  # 100 meters\n",
        "\n",
        "\n",
        "# Select a satellite imagery dataset\n",
        "# dataset = ee.ImageCollection('LANDSAT/LC09/C02/T1')\n",
        "dataset = ee.ImageCollection(\"USDA/NAIP/DOQQ\")\n",
        "# dataset = ee.ImageCollection('COPERNICUS/S2_SR')  # Sentinel-2 Level-1C\n",
        "\n",
        "# Define the region of interest (ROI)\n",
        "roi = ee.Geometry.Point([longitude, latitude])\n",
        "\n",
        "# Filter the dataset by date, region, and cloud cover\n",
        "filtered_dataset = dataset.filterDate('2015-04-01', '2015-05-01') \\\n",
        "                          # .filterBounds(roi) \\\n",
        "                          # .filterMetadata('CLOUDY_PIXEL_PERCENTAGE', 'less_than', 10)\n",
        "\n",
        "# Get the median value of the filtered dataset\n",
        "image = filtered_dataset.median()\n",
        "\n",
        "# Clip the image to the region of interest\n",
        "clipped_image = image.clip(roi.buffer(scale))\n",
        "\n",
        "# Generate the image URL\n",
        "url = clipped_image.getThumbURL({\n",
        "    'region': roi.buffer(scale).bounds().getInfo()['coordinates'],\n",
        "    'dimensions': [1024, 1024],\n",
        "    'bands': 'R,G,B',  # RGB bands\n",
        "    'format': 'png',\n",
        "    'min': 0.0,\n",
        "    'max': 255.0\n",
        "})\n",
        "\n",
        "print(\"Image URL:\", url)\n"
      ]
    },
    {
      "cell_type": "code",
      "execution_count": null,
      "metadata": {
        "colab": {
          "base_uri": "https://localhost:8080/"
        },
        "id": "y_okGsLvxuPZ",
        "outputId": "3bd8f29f-7fc6-4ff5-b035-5d2048aaac88"
      },
      "outputs": [
        {
          "name": "stdout",
          "output_type": "stream",
          "text": [
            "Drive already mounted at /content/drive; to attempt to forcibly remount, call drive.mount(\"/content/drive\", force_remount=True).\n"
          ]
        }
      ],
      "source": [
        "task = ee.batch.Export.image.toDrive(image=image, **export_params)\n",
        "task.start()\n",
        "print(task.status())"
      ]
    },
    {
      "cell_type": "code",
      "execution_count": null,
      "metadata": {
        "id": "rX8feemFgQbs"
      },
      "outputs": [],
      "source": [
        "## Google map\n",
        "# Latitude and longitude coordinates\n",
        "latitude = 42.265168\n",
        "longitude = -71.117736\n",
        "\n",
        "\n",
        "import requests\n",
        "from PIL import Image\n",
        "from io import BytesIO\n",
        "\n",
        "# Replace with your own Google Maps API key\n",
        "API_KEY = 'API_KEY'\n",
        "\n",
        "# Latitude and longitude coordinates\n",
        "latitude = 42.265168\n",
        "longitude = -71.117736\n",
        "\n",
        "# # Calculate the zoom level for a 100-meter range\n",
        "# zoom = 18  # You might need to adjust this value depending on the location\n",
        "\n",
        "# # Construct the Google Maps Static API URL\n",
        "# url = f\"https://maps.googleapis.com/maps/api/staticmap?center={latitude},{longitude}&zoom={zoom}&size=256x256&maptype=satellite&key={API_KEY}\"\n",
        "\n",
        "# # Download the image\n",
        "# response = requests.get(url)\n",
        "# img = Image.open(BytesIO(response.content))\n",
        "\n",
        "# # Save the image to a file\n",
        "# img.save(\"satellite_image.png\")\n",
        "\n",
        "\n",
        "location = f\"{latitude},{longitude}\"\n",
        "\n",
        "\n",
        "base_url = \"https://maps.googleapis.com/maps/api/staticmap\"\n",
        "params = {\n",
        "    \"center\": location,\n",
        "    \"zoom\": 19,\n",
        "    \"size\": \"512x512\",\n",
        "    \"maptype\": \"satellite\",\n",
        "    # \"sensor\": \"false\",\n",
        "    \"scale\": 2,  # 1 pixel = 0.5 meters, so 100 meters = 200 pixels\n",
        "    'key': API_KEY\n",
        "}\n",
        "\n",
        "import requests\n",
        "\n",
        "response = requests.get(base_url, params=params)\n",
        "\n",
        "with open(\"map.png\", \"wb\") as f:\n",
        "    f.write(response.content)\n",
        "\n",
        "\n",
        "\n"
      ]
    },
    {
      "cell_type": "code",
      "execution_count": null,
      "metadata": {
        "id": "-kFP8vt8d9vu"
      },
      "outputs": [],
      "source": [
        "import ee\n",
        "\n",
        "# Initialize the Earth Engine API\n",
        "ee.Initialize()\n",
        "\n",
        "# Define the coordinates (longitude, latitude) and image scale\n",
        "longitude = 12.4924\n",
        "latitude = 41.8902\n",
        "scale = 30\n",
        "\n",
        "# Select a satellite imagery dataset\n",
        "dataset = ee.ImageCollection('LANDSAT/LC09/C02/T1')\n",
        "\n",
        "# Define the region of interest (ROI)\n",
        "roi = ee.Geometry.Point([longitude, latitude])\n",
        "\n",
        "# Create a centered square buffer around the ROI\n",
        "buffer_size = 50  # Half of the side length of the square buffer (in meters)\n",
        "buffered_roi = roi.buffer(buffer_size).bounds()\n",
        "\n",
        "# Filter the dataset by date, region, and cloud cover\n",
        "filtered_dataset = dataset.filterDate('2020-01-01', '2022-12-31') \\\n",
        "                          .filterBounds(buffered_roi) \\\n",
        "                          .filterMetadata('CLOUD_COVER', 'less_than', 10)\n",
        "\n",
        "# Get the median value of the filtered dataset\n",
        "image = filtered_dataset.median()\n",
        "\n",
        "# Clip the image to the buffered region of interest\n",
        "clipped_image = image.clip(buffered_roi)\n",
        "\n",
        "# Generate the image URL\n",
        "url = clipped_image.getThumbURL({\n",
        "    'region': buffered_roi.getInfo()['coordinates'],\n",
        "    'scale': scale,\n",
        "    'dimensions': [256, 256],\n",
        "    'bands': 'B4,B3,B2',  # RGB bands\n",
        "    'format': 'png',\n",
        "    'min': 0,\n",
        "    'max': 3000\n",
        "})\n",
        "\n",
        "print(\"Image URL:\", url)\n"
      ]
    }
  ],
  "metadata": {
    "colab": {
      "provenance": []
    },
    "kernelspec": {
      "display_name": "Python 3",
      "name": "python3"
    },
    "language_info": {
      "name": "python"
    }
  },
  "nbformat": 4,
  "nbformat_minor": 0
}
