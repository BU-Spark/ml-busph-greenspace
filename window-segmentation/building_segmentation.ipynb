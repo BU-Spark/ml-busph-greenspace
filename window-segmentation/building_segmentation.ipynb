{
 "cells": [
  {
   "cell_type": "code",
   "execution_count": 1,
   "metadata": {},
   "outputs": [],
   "source": [
    "from roboflow import Roboflow\n",
    "import os\n",
    "from PIL import Image\n",
    "import re"
   ]
  },
  {
   "cell_type": "code",
   "execution_count": 2,
   "metadata": {},
   "outputs": [
    {
     "name": "stdout",
     "output_type": "stream",
     "text": [
      "loading Roboflow workspace...\n",
      "loading Roboflow project...\n"
     ]
    }
   ],
   "source": [
    "rf = Roboflow(api_key=\"JLpN0sT0VHsOJVVMYX40\")\n",
    "project = rf.workspace().project(\"detecting-house\")\n",
    "model = project.version(8).model"
   ]
  },
  {
   "cell_type": "code",
   "execution_count": 3,
   "metadata": {},
   "outputs": [
    {
     "name": "stdout",
     "output_type": "stream",
     "text": [
      "{'predictions': [{'x': 396, 'y': 82, 'width': 66, 'height': 35, 'confidence': 0.698860764503479, 'class': 'window', 'image_path': 'DonaldMckay_SE.png', 'prediction_type': 'ObjectDetectionModel'}, {'x': 70, 'y': 156, 'width': 54, 'height': 37, 'confidence': 0.5098085999488831, 'class': 'window', 'image_path': 'DonaldMckay_SE.png', 'prediction_type': 'ObjectDetectionModel'}, {'x': 43, 'y': 208, 'width': 83, 'height': 28, 'confidence': 0.43514588475227356, 'class': 'house', 'image_path': 'DonaldMckay_SE.png', 'prediction_type': 'ObjectDetectionModel'}, {'x': 44, 'y': 208, 'width': 89, 'height': 28, 'confidence': 0.4288008511066437, 'class': 'roof', 'image_path': 'DonaldMckay_SE.png', 'prediction_type': 'ObjectDetectionModel'}, {'x': 43, 'y': 207, 'width': 87, 'height': 31, 'confidence': 0.38527539372444153, 'class': 'door', 'image_path': 'DonaldMckay_SE.png', 'prediction_type': 'ObjectDetectionModel'}, {'x': 284, 'y': 97, 'width': 408, 'height': 194, 'confidence': 0.3683370351791382, 'class': 'house', 'image_path': 'DonaldMckay_SE.png', 'prediction_type': 'ObjectDetectionModel'}, {'x': 426, 'y': 121, 'width': 48, 'height': 24, 'confidence': 0.36236071586608887, 'class': 'window', 'image_path': 'DonaldMckay_SE.png', 'prediction_type': 'ObjectDetectionModel'}, {'x': 209, 'y': 116, 'width': 29, 'height': 27, 'confidence': 0.312097430229187, 'class': 'window', 'image_path': 'DonaldMckay_SE.png', 'prediction_type': 'ObjectDetectionModel'}], 'image': {'width': '500', 'height': '223'}}\n"
     ]
    }
   ],
   "source": [
    "print(model.predict(\"DonaldMckay_SE.png\", confidence=30, overlap=30).json())"
   ]
  },
  {
   "cell_type": "code",
   "execution_count": 4,
   "metadata": {},
   "outputs": [],
   "source": [
    "model.predict(\"DonaldMckay_SE.png\", confidence=30, overlap=30).save(\"prediction.jpg\")"
   ]
  },
  {
   "cell_type": "code",
   "execution_count": 6,
   "metadata": {},
   "outputs": [],
   "source": [
    "building_json = model.predict(\"DonaldMckay_SE.png\", confidence=30, overlap=30).json()['predictions']\n"
   ]
  },
  {
   "cell_type": "code",
   "execution_count": 7,
   "metadata": {},
   "outputs": [
    {
     "name": "stdout",
     "output_type": "stream",
     "text": [
      "[{'x': 396, 'y': 82, 'width': 66, 'height': 35, 'confidence': 0.698860764503479, 'class': 'window', 'image_path': 'DonaldMckay_SE.png', 'prediction_type': 'ObjectDetectionModel'}, {'x': 70, 'y': 156, 'width': 54, 'height': 37, 'confidence': 0.5098085999488831, 'class': 'window', 'image_path': 'DonaldMckay_SE.png', 'prediction_type': 'ObjectDetectionModel'}, {'x': 43, 'y': 208, 'width': 83, 'height': 28, 'confidence': 0.43514588475227356, 'class': 'house', 'image_path': 'DonaldMckay_SE.png', 'prediction_type': 'ObjectDetectionModel'}, {'x': 44, 'y': 208, 'width': 89, 'height': 28, 'confidence': 0.4288008511066437, 'class': 'roof', 'image_path': 'DonaldMckay_SE.png', 'prediction_type': 'ObjectDetectionModel'}, {'x': 43, 'y': 207, 'width': 87, 'height': 31, 'confidence': 0.38527539372444153, 'class': 'door', 'image_path': 'DonaldMckay_SE.png', 'prediction_type': 'ObjectDetectionModel'}, {'x': 284, 'y': 97, 'width': 408, 'height': 194, 'confidence': 0.3683370351791382, 'class': 'house', 'image_path': 'DonaldMckay_SE.png', 'prediction_type': 'ObjectDetectionModel'}, {'x': 426, 'y': 121, 'width': 48, 'height': 24, 'confidence': 0.36236071586608887, 'class': 'window', 'image_path': 'DonaldMckay_SE.png', 'prediction_type': 'ObjectDetectionModel'}, {'x': 209, 'y': 116, 'width': 29, 'height': 27, 'confidence': 0.312097430229187, 'class': 'window', 'image_path': 'DonaldMckay_SE.png', 'prediction_type': 'ObjectDetectionModel'}]\n"
     ]
    }
   ],
   "source": [
    "print(building_json)"
   ]
  },
  {
   "cell_type": "code",
   "execution_count": 12,
   "metadata": {},
   "outputs": [
    {
     "name": "stdout",
     "output_type": "stream",
     "text": [
      "81476\n"
     ]
    }
   ],
   "source": [
    "house_area = 0\n",
    "for item in building_json:\n",
    "    if item['class']==\"house\":\n",
    "        house_area += item['width']*item['height']\n",
    "print(house_area)"
   ]
  },
  {
   "cell_type": "code",
   "execution_count": null,
   "metadata": {},
   "outputs": [],
   "source": []
  }
 ],
 "metadata": {
  "kernelspec": {
   "display_name": "Python 3",
   "language": "python",
   "name": "python3"
  },
  "language_info": {
   "codemirror_mode": {
    "name": "ipython",
    "version": 3
   },
   "file_extension": ".py",
   "mimetype": "text/x-python",
   "name": "python",
   "nbconvert_exporter": "python",
   "pygments_lexer": "ipython3",
   "version": "3.6.9"
  }
 },
 "nbformat": 4,
 "nbformat_minor": 2
}
